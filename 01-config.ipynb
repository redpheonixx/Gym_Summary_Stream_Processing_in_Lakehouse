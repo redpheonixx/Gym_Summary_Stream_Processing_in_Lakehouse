{
 "cells": [
  {
   "cell_type": "code",
   "execution_count": 0,
   "metadata": {
    "application/vnd.databricks.v1+cell": {
     "cellMetadata": {
      "byteLimit": 2048000,
      "rowLimit": 10000
     },
     "inputWidgets": {},
     "nuid": "7e32f7e0-af55-4c17-962d-63c405ad0e89",
     "showTitle": false,
     "title": ""
    }
   },
   "outputs": [],
   "source": [
    "class Config():\n",
    "    def __init__(self):\n",
    "        self.base_dir_data = spark.sql(\"describe external location `data_zone`\").select(\"url\").collect()[0][0]\n",
    "        self.base_dir_checkpoint=spark.sql(\"describe external location `checkpoint`\").select(\"url\").collect()[0][0]\n",
    "        self.db_name=\"sbit-db\"\n",
    "        self.maxFilesPerTrigger=1000"
   ]
  }
 ],
 "metadata": {
  "application/vnd.databricks.v1+notebook": {
   "dashboards": [],
   "language": "python",
   "notebookMetadata": {
    "pythonIndentUnit": 4
   },
   "notebookName": "01-config",
   "widgets": {}
  }
 },
 "nbformat": 4,
 "nbformat_minor": 0
}
